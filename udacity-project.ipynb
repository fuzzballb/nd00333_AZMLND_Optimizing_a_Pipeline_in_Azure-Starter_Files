{
 "cells": [
  {
   "cell_type": "code",
   "execution_count": null,
   "metadata": {
    "gather": {
     "logged": 1598275788035
    }
   },
   "outputs": [],
   "source": [
    "from azureml.core import Workspace, Experiment\n",
    "\n",
    "ws = Workspace.get(name=\"quick-starts-ws-134078\")\n",
    "exp = Experiment(workspace=ws, name=\"udacity-project\")\n",
    "\n",
    "print('Workspace name: ' + ws.name, \n",
    "      'Azure region: ' + ws.location, \n",
    "      'Subscription id: ' + ws.subscription_id, \n",
    "      'Resource group: ' + ws.resource_group, sep = '\\n')\n",
    "\n",
    "run = exp.start_logging()"
   ]
  },
  {
   "cell_type": "code",
   "execution_count": null,
   "metadata": {},
   "outputs": [
    {
     "ename": "Error",
     "evalue": "Jupyter cannot be started. Error attempting to locate jupyter: Select an Interpreter to start Jupyter",
     "output_type": "error",
     "traceback": [
      "Error: Jupyter cannot be started. Error attempting to locate jupyter: Select an Interpreter to start Jupyter",
      "at A.startServer (c:\\Users\\ABloemenkamp\\.vscode\\extensions\\ms-python.python-2020.2.64397\\out\\client\\extension.js:1:786213)",
      "at process._tickCallback (internal/process/next_tick.js:68:7)"
     ]
    }
   ],
   "source": [
    "from azureml.core.compute import ComputeTarget, AmlCompute\n",
    "from azureml.core.compute_target import ComputeTargetException\n",
    "\n",
    "# TODO: Create compute cluster\n",
    "# Use vm_size = \"Standard_D2_V2\" in your provisioning configuration.\n",
    "# max_nodes should be no greater than 4.\n",
    "\n",
    "### YOUR CODE HERE ### [done]\n",
    "cpu_cluster_name = \"cpu-cluster\"\n",
    "\n",
    "try:\n",
    "    compute_target = ComputeTarget(workspace=ws, name=cpu_cluster_name)\n",
    "    print('Found existing cluster, use it.')\n",
    "except ComputeTargetException:\n",
    "    compute_config = AmlCompute.provisioning_configuration(vm_size='STANDARD_D2_V2',\n",
    "                                                           max_nodes=4)\n",
    "    compute_target = ComputeTarget.create(ws, cpu_cluster_name, compute_config)\n",
    "\n",
    "compute_target.wait_for_completion(show_output=True)\n",
    "### END YOUR CODE HERE ###\n"
   ]
  },
  {
   "cell_type": "code",
   "execution_count": null,
   "metadata": {},
   "outputs": [
    {
     "ename": "Error",
     "evalue": "Jupyter cannot be started. Error attempting to locate jupyter: Select an Interpreter to start Jupyter",
     "output_type": "error",
     "traceback": [
      "Error: Jupyter cannot be started. Error attempting to locate jupyter: Select an Interpreter to start Jupyter",
      "at A.startServer (c:\\Users\\ABloemenkamp\\.vscode\\extensions\\ms-python.python-2020.2.64397\\out\\client\\extension.js:1:786213)",
      "at process._tickCallback (internal/process/next_tick.js:68:7)"
     ]
    }
   ],
   "source": [
    "from azureml.widgets import RunDetails\n",
    "from azureml.train.sklearn import SKLearn\n",
    "from azureml.train.hyperdrive.run import PrimaryMetricGoal\n",
    "from azureml.train.hyperdrive.policy import BanditPolicy\n",
    "from azureml.train.hyperdrive.sampling import RandomParameterSampling\n",
    "from azureml.train.hyperdrive.runconfig import HyperDriveConfig\n",
    "from azureml.train.hyperdrive.parameter_expressions import uniform, choice\n",
    "from azureml.train.estimator import Estimator\n",
    "import os\n",
    "\n",
    "# Specify parameter sampler\n",
    "#ps = ### YOUR CODE HERE ### [test changes]\n",
    "# Parameters to send to train.py \n",
    "# https://docs.microsoft.com/nl-nl/azure/machine-learning/how-to-tune-hyperparameters\n",
    "ps = RandomParameterSampling( {\n",
    "        \"--C\": uniform(0.2, 15),\n",
    "        \"--max_iter\": choice( 100, 300)\n",
    "    }\n",
    ")\n",
    "### END YOUR CODE HERE ###\n",
    "\n",
    "# Specify a Policy\n",
    "# policy = ### YOUR CODE HERE ### [done]\n",
    "# Shoot every thing that doesn't perform\n",
    "# https://docs.microsoft.com/nl-nl/azure/machine-learning/how-to-tune-hyperparameters\n",
    "early_termination_policy = BanditPolicy(slack_factor = 0.1, evaluation_interval=1, delay_evaluation=5)\n",
    "### END YOUR CODE HERE ###\n",
    "\n",
    "if \"training\" not in os.listdir():\n",
    "    os.mkdir(\"./training\")\n",
    "\n",
    "# Create a SKLearn estimator for use with train.py\n",
    "# est = ### YOUR CODE HERE ## [done]\n",
    "# https://towardsdatascience.com/azure-machine-learning-service-train-a-model-df72c6b5dc\n",
    "est = Estimator(source_directory='./',\n",
    "                   compute_target=compute_target,\n",
    "                   entry_script='train.py',\n",
    "                   conda_packages=['scikit-learn'])\n",
    "### END YOUR CODE HERE ###\n",
    "\n",
    "# Create a HyperDriveConfig using the estimator, hyperparameter sampler, and policy.\n",
    "#hyperdrive_config = ### YOUR CODE HERE ### [test changes]\n",
    "# Hyperparameter Optimization by scaling\n",
    "# https://dev.to/azure/using-azure-machine-learning-for-hyperparameter-optimization-3kgj\n",
    "hyperdrive_config = HyperDriveConfig(estimator=est,\n",
    "                             hyperparameter_sampling=ps,\n",
    "                             policy=early_termination_policy,\n",
    "                             primary_metric_name=\"Accuracy\",\n",
    "                             primary_metric_goal=PrimaryMetricGoal.MAXIMIZE,\n",
    "                             max_total_runs=16,\n",
    "                             max_concurrent_runs=4)\n",
    "### END YOUR CODE HERE ###                             "
   ]
  },
  {
   "cell_type": "code",
   "execution_count": null,
   "metadata": {},
   "outputs": [],
   "source": [
    "# Submit your hyperdrive run to the experiment and show run details with the widget.\n",
    "\n",
    "### YOUR CODE HERE ###\n",
    "hyperdrive_run = exp.submit(hyperdrive_config)\n",
    "RunDetails(hyperdrive_run).show()\n",
    "hyperdrive_run.wait_for_completion(show_output=True)\n",
    "### END YOUR CODE HERE ### "
   ]
  },
  {
   "cell_type": "code",
   "execution_count": null,
   "metadata": {},
   "outputs": [
    {
     "ename": "Error",
     "evalue": "Jupyter cannot be started. Error attempting to locate jupyter: Select an Interpreter to start Jupyter",
     "output_type": "error",
     "traceback": [
      "Error: Jupyter cannot be started. Error attempting to locate jupyter: Select an Interpreter to start Jupyter",
      "at A.startServer (c:\\Users\\ABloemenkamp\\.vscode\\extensions\\ms-python.python-2020.2.64397\\out\\client\\extension.js:1:786213)",
      "at process._tickCallback (internal/process/next_tick.js:68:7)"
     ]
    }
   ],
   "source": [
    "import joblib\n",
    "# Get your best run and save the model from that run.\n",
    "\n",
    "### YOUR CODE HERE ### [done]\n",
    "# https://github.com/MicrosoftDocs/azure-docs/blob/master/articles/machine-learning/how-to-tune-hyperparameters.md\n",
    "best_run = hyperdrive_run.get_best_run_by_primary_metric()\n",
    "best_run_metrics = best_run.get_metrics()\n",
    "parameter_values = best_run.get_details()['runDefinition']['arguments']\n",
    "\n",
    "print('Best Run Id: ', best_run.id)\n",
    "print('\\n Accuracy:', best_run_metrics['Accuracy'])\n",
    "print('\\n --C:',parameter_values[1])\n",
    "print('\\n --max_iter:',parameter_values[3])\n",
    "### END YOUR CODE HERE ###"
   ]
  },
  {
   "cell_type": "code",
   "execution_count": null,
   "metadata": {},
   "outputs": [],
   "source": [
    "from azureml.data.dataset_factory import TabularDatasetFactory\n",
    "from azureml.core import Workspace, Dataset\n",
    "\n",
    "# Create TabularDataset using TabularDatasetFactory\n",
    "# Data is available at: \n",
    "# \"https://automlsamplenotebookdata.blob.core.windows.net/automl-sample-notebook-data/bankmarketing_train.csv\"\n",
    "\n",
    "### YOUR CODE HERE ### [done]\n",
    "ds = Dataset.Tabular.from_delimited_files(\"https://automlsamplenotebookdata.blob.core.windows.net/automl-sample-notebook-data/bankmarketing_train.csv\")\n",
    "### END YOUR CODE HERE ###"
   ]
  },
  {
   "cell_type": "code",
   "execution_count": null,
   "metadata": {},
   "outputs": [
    {
     "ename": "Error",
     "evalue": "Jupyter cannot be started. Error attempting to locate jupyter: Select an Interpreter to start Jupyter",
     "output_type": "error",
     "traceback": [
      "Error: Jupyter cannot be started. Error attempting to locate jupyter: Select an Interpreter to start Jupyter",
      "at A.startServer (c:\\Users\\ABloemenkamp\\.vscode\\extensions\\ms-python.python-2020.2.64397\\out\\client\\extension.js:1:786213)",
      "at process._tickCallback (internal/process/next_tick.js:68:7)"
     ]
    }
   ],
   "source": [
    "import pandas as pd\n",
    "\n",
    "def clean_data(data):\n",
    "    # Dict for cleaning data\n",
    "    months = {\"jan\":1, \"feb\":2, \"mar\":3, \"apr\":4, \"may\":5, \"jun\":6, \"jul\":7, \"aug\":8, \"sep\":9, \"oct\":10, \"nov\":11, \"dec\":12}\n",
    "    weekdays = {\"mon\":1, \"tue\":2, \"wed\":3, \"thu\":4, \"fri\":5, \"sat\":6, \"sun\":7}\n",
    "\n",
    "    # Clean and one hot encode data\n",
    "    x_df = data.to_pandas_dataframe().dropna()\n",
    "    jobs = pd.get_dummies(x_df.job, prefix=\"job\")\n",
    "    x_df.drop(\"job\", inplace=True, axis=1)\n",
    "    x_df = x_df.join(jobs)\n",
    "    x_df[\"marital\"] = x_df.marital.apply(lambda s: 1 if s == \"married\" else 0)\n",
    "    x_df[\"default\"] = x_df.default.apply(lambda s: 1 if s == \"yes\" else 0)\n",
    "    x_df[\"housing\"] = x_df.housing.apply(lambda s: 1 if s == \"yes\" else 0)\n",
    "    x_df[\"loan\"] = x_df.loan.apply(lambda s: 1 if s == \"yes\" else 0)\n",
    "    contact = pd.get_dummies(x_df.contact, prefix=\"contact\")\n",
    "    x_df.drop(\"contact\", inplace=True, axis=1)\n",
    "    x_df = x_df.join(contact)\n",
    "    education = pd.get_dummies(x_df.education, prefix=\"education\")\n",
    "    x_df.drop(\"education\", inplace=True, axis=1)\n",
    "    x_df = x_df.join(education)\n",
    "    x_df[\"month\"] = x_df.month.map(months)\n",
    "    x_df[\"day_of_week\"] = x_df.day_of_week.map(weekdays)\n",
    "    x_df[\"poutcome\"] = x_df.poutcome.apply(lambda s: 1 if s == \"success\" else 0)\n",
    "    x_df[\"y\"] = x_df.y.apply(lambda s: 1 if s == \"yes\" else 0)\n",
    "\n",
    "    return x_df\n",
    "\n",
    "from sklearn.model_selection import train_test_split\n",
    "\n",
    "# Use the clean_data function to clean your data.\n",
    "# x, y = clean_data(### YOUR DATA OBJECT HERE ###) [test change]\n",
    "data = clean_data(ds)"
   ]
  },
  {
   "cell_type": "code",
   "execution_count": null,
   "metadata": {},
   "outputs": [
    {
     "ename": "Error",
     "evalue": "Jupyter cannot be started. Error attempting to locate jupyter: Select an Interpreter to start Jupyter",
     "output_type": "error",
     "traceback": [
      "Error: Jupyter cannot be started. Error attempting to locate jupyter: Select an Interpreter to start Jupyter",
      "at A.startServer (c:\\Users\\ABloemenkamp\\.vscode\\extensions\\ms-python.python-2020.2.64397\\out\\client\\extension.js:1:786213)",
      "at process._tickCallback (internal/process/next_tick.js:68:7)"
     ]
    }
   ],
   "source": [
    "from azureml.core import Dataset, Datastore\n",
    "from azureml.data.datapath import DataPath\n",
    "\n",
    "# convert from Panda's to TabularDataset\n",
    "data.to_csv(\"cleaned_data.csv\", index=False)\n",
    "datastore = ws.get_default_datastore()\n",
    "datastore.upload(src_dir='./', target_path='temp', overwrite=True, show_progress=True)\n",
    "\n",
    "data = Dataset.Tabular.from_delimited_files(path=datastore.path('temp/cleaned_data.csv'))"
   ]
  },
  {
   "cell_type": "code",
   "execution_count": null,
   "metadata": {
    "gather": {
     "logged": 1598275665403
    },
    "jupyter": {
     "outputs_hidden": false,
     "source_hidden": false
    },
    "nteract": {
     "transient": {
      "deleting": false
     }
    }
   },
   "outputs": [],
   "source": [
    "from azureml.train.automl import AutoMLConfig\n",
    "\n",
    "# Set parameters for AutoMLConfig\n",
    "# NOTE: DO NOT CHANGE THE experiment_timeout_minutes PARAMETER OR YOUR INSTANCE WILL TIME OUT.\n",
    "# If you wish to run the experiment longer, you will need to run this notebook in your own\n",
    "# Azure tenant, which will incur personal costs.\n",
    "# automl_config = AutoMLConfig(\n",
    "#     experiment_timeout_minutes=30,\n",
    "#     task=,\n",
    "#     primary_metric=,\n",
    "#     training_data=,\n",
    "#     label_column_name=,\n",
    "#     n_cross_validations=)\n",
    "\n",
    "### YOUR CODE HERE ###\n",
    "# https://classroom.udacity.com/nanodegrees/nd00333/parts/e0c51a58-32b4-4761-897b-92f6183148ac/modules/485dd1ee-e43b-468b-8e0f-60d9fe611adc/lessons/30185a23-caed-409c-81c5-5560d4ca0c4b/concepts/2fc7c7c8-7282-4ba5-ac88-9a6b4154b98b\n",
    "\n",
    "automl_config = AutoMLConfig(\n",
    "    compute_target = compute_target,\n",
    "    experiment_timeout_minutes=30,\n",
    "    task=\"classification\",\n",
    "    primary_metric=\"accuracy\",\n",
    "    training_data = data,\n",
    "    label_column_name= \"y\",\n",
    "    n_cross_validations=5,\n",
    "    iterations = 10)    \n",
    "### END YOUR CODE HERE ###      "
   ]
  },
  {
   "cell_type": "code",
   "execution_count": null,
   "metadata": {},
   "outputs": [
    {
     "ename": "Error",
     "evalue": "Jupyter cannot be started. Error attempting to locate jupyter: Select an Interpreter to start Jupyter",
     "output_type": "error",
     "traceback": [
      "Error: Jupyter cannot be started. Error attempting to locate jupyter: Select an Interpreter to start Jupyter",
      "at A.startServer (c:\\Users\\ABloemenkamp\\.vscode\\extensions\\ms-python.python-2020.2.64397\\out\\client\\extension.js:1:786213)",
      "at process._tickCallback (internal/process/next_tick.js:68:7)"
     ]
    }
   ],
   "source": [
    "# Submit your automl run\n",
    "\n",
    "### YOUR CODE HERE ### [done]\n",
    "# https://classroom.udacity.com/nanodegrees/nd00333/parts/e0c51a58-32b4-4761-897b-92f6183148ac/modules/485dd1ee-e43b-468b-8e0f-60d9fe611adc/lessons/30185a23-caed-409c-81c5-5560d4ca0c4b/concepts/2fc7c7c8-7282-4ba5-ac88-9a6b4154b98b\n",
    "experiment = Experiment(ws, \"automl_test_experiment\")\n",
    "run = experiment.submit(automl_config, show_output=True)\n",
    "### END YOUR CODE HERE ###"
   ]
  },
  {
   "cell_type": "code",
   "execution_count": null,
   "metadata": {},
   "outputs": [
    {
     "ename": "Error",
     "evalue": "Jupyter cannot be started. Error attempting to locate jupyter: Select an Interpreter to start Jupyter",
     "output_type": "error",
     "traceback": [
      "Error: Jupyter cannot be started. Error attempting to locate jupyter: Select an Interpreter to start Jupyter",
      "at A.startServer (c:\\Users\\ABloemenkamp\\.vscode\\extensions\\ms-python.python-2020.2.64397\\out\\client\\extension.js:1:786213)",
      "at process._tickCallback (internal/process/next_tick.js:68:7)"
     ]
    }
   ],
   "source": [
    "# Retrieve and save your best automl model.\n",
    "\n",
    "### YOUR CODE HERE ###\n",
    "best_run, fitted_model = run.get_output()\n",
    "print(best_run)\n",
    "\n",
    "joblib.dump(value=fitted_model, filename='outputs/automl_test_experiment_best_model.pkl')\n",
    "### END YOUR CODE HERE ###"
   ]
  },
  {
   "cell_type": "code",
   "execution_count": null,
   "metadata": {},
   "outputs": [],
   "source": [
    "compute_target.delete()"
   ]
  }
 ],
 "metadata": {
  "kernel_info": {
   "name": "python3-azureml"
  },
  "kernelspec": {
   "display_name": "Python 3",
   "language": "python",
   "name": "python3"
  },
  "language_info": {
   "codemirror_mode": {
    "name": "ipython",
    "version": 3
   },
   "file_extension": ".py",
   "mimetype": "text/x-python",
   "name": "python",
   "nbconvert_exporter": "python",
   "pygments_lexer": "ipython3",
   "version": "3.7.4"
  },
  "nteract": {
   "version": "nteract-front-end@1.0.0"
  }
 },
 "nbformat": 4,
 "nbformat_minor": 2
}
